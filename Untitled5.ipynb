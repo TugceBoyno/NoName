{
  "nbformat": 4,
  "nbformat_minor": 0,
  "metadata": {
    "colab": {
      "name": "Untitled5.ipynb",
      "provenance": [],
      "authorship_tag": "ABX9TyMUTXmngan+ELtOVzLDTdVI",
      "include_colab_link": true
    },
    "kernelspec": {
      "name": "python3",
      "display_name": "Python 3"
    },
    "language_info": {
      "name": "python"
    }
  },
  "cells": [
    {
      "cell_type": "markdown",
      "metadata": {
        "id": "view-in-github",
        "colab_type": "text"
      },
      "source": [
        "<a href=\"https://colab.research.google.com/github/TugceBoyno/NoName/blob/main/Untitled5.ipynb\" target=\"_parent\"><img src=\"https://colab.research.google.com/assets/colab-badge.svg\" alt=\"Open In Colab\"/></a>"
      ]
    },
    {
      "cell_type": "code",
      "metadata": {
        "colab": {
          "base_uri": "https://localhost:8080/"
        },
        "id": "B5PB6pYcoqZs",
        "outputId": "daee71e8-ff8f-4a03-db62-5b7e2060c77f"
      },
      "source": [
        "while True:\n",
        "    number = input('please enter a positive number:')\n",
        "    if  number.isdigit()==True:\n",
        "        exponential=len(number)\n",
        "        Aggregate = 0\n",
        "        number1 = int(number)\n",
        "        while number1>0:\n",
        "            digit=number1%10\n",
        "            Aggregate +=digit**exponential\n",
        "            number1 //=10\n",
        "        if Aggregate == int(number):\n",
        "            print(number,\"is an Armstrong number\")\n",
        "            break\n",
        "        else :\n",
        "            print(number,\"is not an Armstrong number\")\n",
        "    else :\n",
        "        print(\" It is an invalid entry. Don't use non-numeric, float, or negative values!\")"
      ],
      "execution_count": 4,
      "outputs": [
        {
          "output_type": "stream",
          "text": [
            "please enter a positive number:1234\n",
            "1234 is not an Armstrong number\n",
            "please enter a positive number:9474\n",
            "9474 is an Armstrong number\n"
          ],
          "name": "stdout"
        }
      ]
    }
  ]
}